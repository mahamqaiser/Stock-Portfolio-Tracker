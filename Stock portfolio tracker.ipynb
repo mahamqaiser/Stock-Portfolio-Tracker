{
 "cells": [
  {
   "cell_type": "code",
   "execution_count": 7,
   "id": "41b065b3-92c3-4b84-8ded-d49cd2220237",
   "metadata": {},
   "outputs": [
    {
     "name": "stdout",
     "output_type": "stream",
     "text": [
      " Welcome to Stock Portfolio Tracker\n",
      "Available stocks: AAPL, TSLA, GOOGL, AMZN, MSFT\n",
      "Type 'done' when finished.\n",
      "\n"
     ]
    },
    {
     "name": "stdin",
     "output_type": "stream",
     "text": [
      "Enter stock symbol:  AAPL\n",
      "Enter quantity of AAPL:  30\n",
      "Enter stock symbol:  TSLA\n",
      "Enter quantity of TSLA:  60\n",
      "Enter stock symbol:  MSFT\n",
      "Enter quantity of MSFT:  80\n",
      "Enter stock symbol:  GGOGL\n"
     ]
    },
    {
     "name": "stdout",
     "output_type": "stream",
     "text": [
      "❌ Stock not found in the price list. Try again.\n",
      "\n"
     ]
    },
    {
     "name": "stdin",
     "output_type": "stream",
     "text": [
      "Enter stock symbol:  GOOGL\n",
      "Enter quantity of GOOGL:  44\n",
      "Enter stock symbol:  AMZN\n",
      "Enter quantity of AMZN:  33\n",
      "Enter stock symbol:  DONE\n"
     ]
    },
    {
     "name": "stdout",
     "output_type": "stream",
     "text": [
      "\n",
      " Portfolio Summary:\n",
      "AAPL: 30 shares × $180 = $5400\n",
      "TSLA: 60 shares × $250 = $15000\n",
      "MSFT: 80 shares × $310 = $24800\n",
      "GOOGL: 44 shares × $135 = $5940\n",
      "AMZN: 33 shares × $130 = $4290\n",
      "\n",
      " Total Investment Value: $55430\n"
     ]
    },
    {
     "name": "stdin",
     "output_type": "stream",
     "text": [
      "\n",
      "Do you want to save the portfolio to a file? (yes/no):  NO\n"
     ]
    }
   ],
   "source": [
    "# Hardcoded stock prices\n",
    "stock_prices = {\n",
    "    \"AAPL\": 180,\n",
    "    \"TSLA\": 250,\n",
    "    \"GOOGL\": 135,\n",
    "    \"AMZN\": 130,\n",
    "    \"MSFT\": 310\n",
    "}\n",
    "\n",
    "portfolio = {}\n",
    "total_investment = 0\n",
    "\n",
    "print(\" Welcome to Stock Portfolio Tracker\")\n",
    "print(\"Available stocks:\", ', '.join(stock_prices.keys()))\n",
    "print(\"Type 'done' when finished.\\n\")\n",
    "\n",
    "# Input loop\n",
    "while True:\n",
    "    stock = input(\"Enter stock symbol: \").upper()\n",
    "    if stock == 'DONE':\n",
    "        break\n",
    "    if stock not in stock_prices:\n",
    "        print(\"❌ Stock not found in the price list. Try again.\\n\")\n",
    "        continue\n",
    "\n",
    "    try:\n",
    "        quantity = int(input(f\"Enter quantity of {stock}: \"))\n",
    "        portfolio[stock] = portfolio.get(stock, 0) + quantity\n",
    "    except ValueError:\n",
    "        print(\" Invalid quantity. Please enter a number.\\n\")\n",
    "\n",
    "# Calculate total investment\n",
    "print(\"\\n Portfolio Summary:\")\n",
    "for stock, qty in portfolio.items():\n",
    "    value = stock_prices[stock] * qty\n",
    "    total_investment += value\n",
    "    print(f\"{stock}: {qty} shares × ${stock_prices[stock]} = ${value}\")\n",
    "\n",
    "print(f\"\\n Total Investment Value: ${total_investment}\")\n",
    "\n",
    "# Optional: Save to file\n",
    "save = input(\"\\nDo you want to save the portfolio to a file? (yes/no): \").lower()\n",
    "if save == \"yes\":\n",
    "    with open(\"portfolio_summary.txt\", \"w\") as file:\n",
    "        file.write(\"Stock Portfolio Summary\\n\")\n",
    "        for stock, qty in portfolio.items():\n",
    "            value = stock_prices[stock] * qty\n",
    "            file.write(f\"{stock}: {qty} shares × ${stock_prices[stock]} = ${value}\\n\")\n",
    "        file.write(f\"\\nTotal Investment Value: ${total_investment}\\n\")\n",
    "    print(\"✅ Portfolio saved to 'portfolio_summary.txt'.\")\n"
   ]
  },
  {
   "cell_type": "code",
   "execution_count": null,
   "id": "a099c805-8125-4ee8-8b69-076f61e17421",
   "metadata": {},
   "outputs": [],
   "source": []
  }
 ],
 "metadata": {
  "kernelspec": {
   "display_name": "Python [conda env:base] *",
   "language": "python",
   "name": "conda-base-py"
  },
  "language_info": {
   "codemirror_mode": {
    "name": "ipython",
    "version": 3
   },
   "file_extension": ".py",
   "mimetype": "text/x-python",
   "name": "python",
   "nbconvert_exporter": "python",
   "pygments_lexer": "ipython3",
   "version": "3.12.7"
  }
 },
 "nbformat": 4,
 "nbformat_minor": 5
}
